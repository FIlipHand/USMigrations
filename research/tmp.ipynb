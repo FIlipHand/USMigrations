{
 "cells": [
  {
   "cell_type": "code",
   "execution_count": 15,
   "metadata": {},
   "outputs": [],
   "source": [
    "import pandas as pd\n",
    "import os\n",
    "from sklearn.ensemble import RandomForestClassifier, RandomForestRegressor\n",
    "from sklearn.model_selection import train_test_split"
   ]
  },
  {
   "cell_type": "code",
   "execution_count": 16,
   "metadata": {},
   "outputs": [],
   "source": [
    "part1 = pd.read_csv('../data/better_processed/GDP_data.csv', sep=';')\n",
    "part2 = pd.read_csv('../data/better_processed/education.csv', sep=';')\n",
    "part3 = pd.read_csv('../data/better_processed/unemplyment_data.csv', sep=';')\n",
    "to_pred = pd.read_csv('../data/processed/population_20-22_data.csv', sep=';')[['FIPS code', 'NPOPCHG2022']]\n",
    "\n",
    "\n",
    "part1=pd.merge(part1, part2, on='FIPS code', suffixes=('','_y'))\n",
    "part1=pd.merge(part1, part3, on='FIPS code', suffixes=('','_y'))\n",
    "part1=pd.merge(part1, to_pred, on='FIPS code', suffixes=('', '_y'))\n",
    "part1.drop(part1.filter(regex='_y$').columns, axis=1, inplace=True)"
   ]
  },
  {
   "cell_type": "code",
   "execution_count": 17,
   "metadata": {},
   "outputs": [
    {
     "data": {
      "text/plain": [
       "['Real GDP delta from 2021',\n",
       " 'Real GDP 2021',\n",
       " 'Chain GDP delta from 2021',\n",
       " 'Chain GDP 2021',\n",
       " 'Less than a high school diploma, delta from 2017',\n",
       " 'High school diploma only, delta from 2017',\n",
       " \"Some college or associate's degree, delta from 2017\",\n",
       " \"Bachelor's degree or higher, delta from 2017\",\n",
       " 'Percent of adults with less than a high school diploma, delta from 2017',\n",
       " 'Percent of adults with a high school diploma only, delta from 2017',\n",
       " \"Percent of adults completing some college or associate's degree, delta from 2017\",\n",
       " \"Percent of adults with a bachelor's degree or higher, delta from 2017\",\n",
       " 'Less than a high school diploma, 2017-21',\n",
       " 'High school diploma only, 2017-21',\n",
       " \"Some college or associate's degree, 2017-21\",\n",
       " \"Bachelor's degree or higher, 2017-21\",\n",
       " 'Percent of adults with less than a high school diploma, 2017-21',\n",
       " 'Percent of adults with a high school diploma only, 2017-21',\n",
       " \"Percent of adults completing some college or associate's degree, 2017-21\",\n",
       " \"Percent of adults with a bachelor's degree or higher, 2017-21\",\n",
       " 'Civilian_labor_force_2000',\n",
       " 'Employed_2000',\n",
       " 'Unemployed_2000',\n",
       " 'Unemployment_rate_2000',\n",
       " 'Civilian_labor_force_2021',\n",
       " 'Employed_2021',\n",
       " 'Unemployed_2021',\n",
       " 'Unemployment_rate_2021',\n",
       " 'NPOPCHG2022']"
      ]
     },
     "execution_count": 17,
     "metadata": {},
     "output_type": "execute_result"
    }
   ],
   "source": [
    "part1.drop(columns=['FIPS code', 'GeoName', 'State', 'Area name', 'Area_name'], inplace=True, axis=1)\n",
    "list(part1.columns)"
   ]
  },
  {
   "cell_type": "code",
   "execution_count": 18,
   "metadata": {},
   "outputs": [],
   "source": [
    "X = part1.iloc[:, :-1]\n",
    "y = part1.iloc[:, -1]"
   ]
  },
  {
   "cell_type": "code",
   "execution_count": 45,
   "metadata": {},
   "outputs": [
    {
     "data": {
      "text/html": [
       "<style>#sk-container-id-5 {color: black;background-color: white;}#sk-container-id-5 pre{padding: 0;}#sk-container-id-5 div.sk-toggleable {background-color: white;}#sk-container-id-5 label.sk-toggleable__label {cursor: pointer;display: block;width: 100%;margin-bottom: 0;padding: 0.3em;box-sizing: border-box;text-align: center;}#sk-container-id-5 label.sk-toggleable__label-arrow:before {content: \"▸\";float: left;margin-right: 0.25em;color: #696969;}#sk-container-id-5 label.sk-toggleable__label-arrow:hover:before {color: black;}#sk-container-id-5 div.sk-estimator:hover label.sk-toggleable__label-arrow:before {color: black;}#sk-container-id-5 div.sk-toggleable__content {max-height: 0;max-width: 0;overflow: hidden;text-align: left;background-color: #f0f8ff;}#sk-container-id-5 div.sk-toggleable__content pre {margin: 0.2em;color: black;border-radius: 0.25em;background-color: #f0f8ff;}#sk-container-id-5 input.sk-toggleable__control:checked~div.sk-toggleable__content {max-height: 200px;max-width: 100%;overflow: auto;}#sk-container-id-5 input.sk-toggleable__control:checked~label.sk-toggleable__label-arrow:before {content: \"▾\";}#sk-container-id-5 div.sk-estimator input.sk-toggleable__control:checked~label.sk-toggleable__label {background-color: #d4ebff;}#sk-container-id-5 div.sk-label input.sk-toggleable__control:checked~label.sk-toggleable__label {background-color: #d4ebff;}#sk-container-id-5 input.sk-hidden--visually {border: 0;clip: rect(1px 1px 1px 1px);clip: rect(1px, 1px, 1px, 1px);height: 1px;margin: -1px;overflow: hidden;padding: 0;position: absolute;width: 1px;}#sk-container-id-5 div.sk-estimator {font-family: monospace;background-color: #f0f8ff;border: 1px dotted black;border-radius: 0.25em;box-sizing: border-box;margin-bottom: 0.5em;}#sk-container-id-5 div.sk-estimator:hover {background-color: #d4ebff;}#sk-container-id-5 div.sk-parallel-item::after {content: \"\";width: 100%;border-bottom: 1px solid gray;flex-grow: 1;}#sk-container-id-5 div.sk-label:hover label.sk-toggleable__label {background-color: #d4ebff;}#sk-container-id-5 div.sk-serial::before {content: \"\";position: absolute;border-left: 1px solid gray;box-sizing: border-box;top: 0;bottom: 0;left: 50%;z-index: 0;}#sk-container-id-5 div.sk-serial {display: flex;flex-direction: column;align-items: center;background-color: white;padding-right: 0.2em;padding-left: 0.2em;position: relative;}#sk-container-id-5 div.sk-item {position: relative;z-index: 1;}#sk-container-id-5 div.sk-parallel {display: flex;align-items: stretch;justify-content: center;background-color: white;position: relative;}#sk-container-id-5 div.sk-item::before, #sk-container-id-5 div.sk-parallel-item::before {content: \"\";position: absolute;border-left: 1px solid gray;box-sizing: border-box;top: 0;bottom: 0;left: 50%;z-index: -1;}#sk-container-id-5 div.sk-parallel-item {display: flex;flex-direction: column;z-index: 1;position: relative;background-color: white;}#sk-container-id-5 div.sk-parallel-item:first-child::after {align-self: flex-end;width: 50%;}#sk-container-id-5 div.sk-parallel-item:last-child::after {align-self: flex-start;width: 50%;}#sk-container-id-5 div.sk-parallel-item:only-child::after {width: 0;}#sk-container-id-5 div.sk-dashed-wrapped {border: 1px dashed gray;margin: 0 0.4em 0.5em 0.4em;box-sizing: border-box;padding-bottom: 0.4em;background-color: white;}#sk-container-id-5 div.sk-label label {font-family: monospace;font-weight: bold;display: inline-block;line-height: 1.2em;}#sk-container-id-5 div.sk-label-container {text-align: center;}#sk-container-id-5 div.sk-container {/* jupyter's `normalize.less` sets `[hidden] { display: none; }` but bootstrap.min.css set `[hidden] { display: none !important; }` so we also need the `!important` here to be able to override the default hidden behavior on the sphinx rendered scikit-learn.org. See: https://github.com/scikit-learn/scikit-learn/issues/21755 */display: inline-block !important;position: relative;}#sk-container-id-5 div.sk-text-repr-fallback {display: none;}</style><div id=\"sk-container-id-5\" class=\"sk-top-container\"><div class=\"sk-text-repr-fallback\"><pre>RandomForestClassifier(max_depth=20, n_estimators=200)</pre><b>In a Jupyter environment, please rerun this cell to show the HTML representation or trust the notebook. <br />On GitHub, the HTML representation is unable to render, please try loading this page with nbviewer.org.</b></div><div class=\"sk-container\" hidden><div class=\"sk-item\"><div class=\"sk-estimator sk-toggleable\"><input class=\"sk-toggleable__control sk-hidden--visually\" id=\"sk-estimator-id-5\" type=\"checkbox\" checked><label for=\"sk-estimator-id-5\" class=\"sk-toggleable__label sk-toggleable__label-arrow\">RandomForestClassifier</label><div class=\"sk-toggleable__content\"><pre>RandomForestClassifier(max_depth=20, n_estimators=200)</pre></div></div></div></div></div>"
      ],
      "text/plain": [
       "RandomForestClassifier(max_depth=20, n_estimators=200)"
      ]
     },
     "execution_count": 45,
     "metadata": {},
     "output_type": "execute_result"
    }
   ],
   "source": [
    "dzewo = RandomForestClassifier(n_estimators=200, max_depth=20)\n",
    "X_train, X_test, Y_train, Y_test = train_test_split(X, y > 0, test_size=.3)\n",
    "\n",
    "dzewo.fit(X_train, Y_train)"
   ]
  },
  {
   "cell_type": "code",
   "execution_count": 46,
   "metadata": {},
   "outputs": [
    {
     "name": "stderr",
     "output_type": "stream",
     "text": [
      "c:\\Users\\Filif\\anaconda3\\envs\\torch_gpu\\lib\\site-packages\\sklearn\\base.py:450: UserWarning: X does not have valid feature names, but RandomForestClassifier was fitted with feature names\n",
      "  warnings.warn(\n"
     ]
    },
    {
     "data": {
      "text/plain": [
       "0.762472885032538"
      ]
     },
     "execution_count": 46,
     "metadata": {},
     "output_type": "execute_result"
    }
   ],
   "source": [
    "from sklearn.metrics import mean_absolute_error, mean_squared_error, accuracy_score\n",
    "\n",
    "accuracy_score(Y_test.values.reshape(-1, 1), dzewo.predict(X_test.values))"
   ]
  },
  {
   "cell_type": "code",
   "execution_count": 48,
   "metadata": {},
   "outputs": [],
   "source": [
    "part1.to_csv('../data/better_processed/TO_R.csv', sep=';', index=False)"
   ]
  },
  {
   "cell_type": "code",
   "execution_count": 55,
   "metadata": {},
   "outputs": [],
   "source": [
    "part1 = pd.read_csv('../data/processed/GDP_data.csv', sep=';')\n",
    "part2 = pd.read_csv('../data/processed/education_data.csv', sep=';')\n",
    "part3 = pd.read_csv('../data/processed/unemployment_data.csv', sep=';')\n",
    "to_pred = pd.read_csv('../data/processed/population_20-22_data.csv', sep=';')[['FIPS code', 'NPOPCHG2022']]\n",
    "\n",
    "\n",
    "part1=pd.merge(part1, part2, on='FIPS code', suffixes=('','_y'))\n",
    "part1=pd.merge(part1, part3, on='FIPS code', suffixes=('','_y'))\n",
    "part1=pd.merge(part1, to_pred, on='FIPS code', suffixes=('', '_y'))\n",
    "part1.drop(part1.filter(regex='_y$').columns, axis=1, inplace=True)"
   ]
  },
  {
   "cell_type": "code",
   "execution_count": 56,
   "metadata": {},
   "outputs": [
    {
     "data": {
      "text/plain": [
       "['2001 Real GDP (thousands of chained 2012 dollars) ',\n",
       " '2002 Real GDP (thousands of chained 2012 dollars) ',\n",
       " '2003 Real GDP (thousands of chained 2012 dollars) ',\n",
       " '2004 Real GDP (thousands of chained 2012 dollars) ',\n",
       " '2005 Real GDP (thousands of chained 2012 dollars) ',\n",
       " '2006 Real GDP (thousands of chained 2012 dollars) ',\n",
       " '2007 Real GDP (thousands of chained 2012 dollars) ',\n",
       " '2008 Real GDP (thousands of chained 2012 dollars) ',\n",
       " '2009 Real GDP (thousands of chained 2012 dollars) ',\n",
       " '2010 Real GDP (thousands of chained 2012 dollars) ',\n",
       " '2011 Real GDP (thousands of chained 2012 dollars) ',\n",
       " '2012 Real GDP (thousands of chained 2012 dollars) ',\n",
       " '2013 Real GDP (thousands of chained 2012 dollars) ',\n",
       " '2014 Real GDP (thousands of chained 2012 dollars) ',\n",
       " '2015 Real GDP (thousands of chained 2012 dollars) ',\n",
       " '2016 Real GDP (thousands of chained 2012 dollars) ',\n",
       " '2017 Real GDP (thousands of chained 2012 dollars) ',\n",
       " '2018 Real GDP (thousands of chained 2012 dollars) ',\n",
       " '2019 Real GDP (thousands of chained 2012 dollars) ',\n",
       " '2020 Real GDP (thousands of chained 2012 dollars) ',\n",
       " '2021 Real GDP (thousands of chained 2012 dollars) ',\n",
       " '2001 Chain-type quantity indexes for real GDP ',\n",
       " '2002 Chain-type quantity indexes for real GDP ',\n",
       " '2003 Chain-type quantity indexes for real GDP ',\n",
       " '2004 Chain-type quantity indexes for real GDP ',\n",
       " '2005 Chain-type quantity indexes for real GDP ',\n",
       " '2006 Chain-type quantity indexes for real GDP ',\n",
       " '2007 Chain-type quantity indexes for real GDP ',\n",
       " '2008 Chain-type quantity indexes for real GDP ',\n",
       " '2009 Chain-type quantity indexes for real GDP ',\n",
       " '2010 Chain-type quantity indexes for real GDP ',\n",
       " '2011 Chain-type quantity indexes for real GDP ',\n",
       " '2012 Chain-type quantity indexes for real GDP ',\n",
       " '2013 Chain-type quantity indexes for real GDP ',\n",
       " '2014 Chain-type quantity indexes for real GDP ',\n",
       " '2015 Chain-type quantity indexes for real GDP ',\n",
       " '2016 Chain-type quantity indexes for real GDP ',\n",
       " '2017 Chain-type quantity indexes for real GDP ',\n",
       " '2018 Chain-type quantity indexes for real GDP ',\n",
       " '2019 Chain-type quantity indexes for real GDP ',\n",
       " '2020 Chain-type quantity indexes for real GDP ',\n",
       " '2021 Chain-type quantity indexes for real GDP ',\n",
       " '2001 Chain-type quantity indexes for real GDP .1',\n",
       " '2002 Chain-type quantity indexes for real GDP .1',\n",
       " '2003 Chain-type quantity indexes for real GDP .1',\n",
       " '2004 Chain-type quantity indexes for real GDP .1',\n",
       " '2005 Chain-type quantity indexes for real GDP .1',\n",
       " '2006 Chain-type quantity indexes for real GDP .1',\n",
       " '2007 Chain-type quantity indexes for real GDP .1',\n",
       " '2008 Chain-type quantity indexes for real GDP .1',\n",
       " '2009 Chain-type quantity indexes for real GDP .1',\n",
       " '2010 Chain-type quantity indexes for real GDP .1',\n",
       " '2011 Chain-type quantity indexes for real GDP .1',\n",
       " '2012 Chain-type quantity indexes for real GDP .1',\n",
       " '2013 Chain-type quantity indexes for real GDP .1',\n",
       " '2014 Chain-type quantity indexes for real GDP .1',\n",
       " '2015 Chain-type quantity indexes for real GDP .1',\n",
       " '2016 Chain-type quantity indexes for real GDP .1',\n",
       " '2017 Chain-type quantity indexes for real GDP .1',\n",
       " '2018 Chain-type quantity indexes for real GDP .1',\n",
       " '2019 Chain-type quantity indexes for real GDP .1',\n",
       " '2020 Chain-type quantity indexes for real GDP .1',\n",
       " '2021 Chain-type quantity indexes for real GDP .1',\n",
       " '2003 Rural-urban Continuum Code',\n",
       " '2003 Urban Influence Code',\n",
       " '2013 Rural-urban Continuum Code',\n",
       " '2013 Urban Influence Code',\n",
       " 'Less than a high school diploma, 1970',\n",
       " 'High school diploma only, 1970',\n",
       " 'Some college (1-3 years), 1970',\n",
       " 'Four years of college or higher, 1970',\n",
       " 'Percent of adults with less than a high school diploma, 1970',\n",
       " 'Percent of adults with a high school diploma only, 1970',\n",
       " 'Percent of adults completing some college (1-3 years), 1970',\n",
       " 'Percent of adults completing four years of college or higher, 1970',\n",
       " 'Less than a high school diploma, 1980',\n",
       " 'High school diploma only, 1980',\n",
       " 'Some college (1-3 years), 1980',\n",
       " 'Four years of college or higher, 1980',\n",
       " 'Percent of adults with less than a high school diploma, 1980',\n",
       " 'Percent of adults with a high school diploma only, 1980',\n",
       " 'Percent of adults completing some college (1-3 years), 1980',\n",
       " 'Percent of adults completing four years of college or higher, 1980',\n",
       " 'Less than a high school diploma, 1990',\n",
       " 'High school diploma only, 1990',\n",
       " \"Some college or associate's degree, 1990\",\n",
       " \"Bachelor's degree or higher, 1990\",\n",
       " 'Percent of adults with less than a high school diploma, 1990',\n",
       " 'Percent of adults with a high school diploma only, 1990',\n",
       " \"Percent of adults completing some college or associate's degree, 1990\",\n",
       " \"Percent of adults with a bachelor's degree or higher, 1990\",\n",
       " 'Less than a high school diploma, 2000',\n",
       " 'High school diploma only, 2000',\n",
       " \"Some college or associate's degree, 2000\",\n",
       " \"Bachelor's degree or higher, 2000\",\n",
       " 'Percent of adults with less than a high school diploma, 2000',\n",
       " 'Percent of adults with a high school diploma only, 2000',\n",
       " \"Percent of adults completing some college or associate's degree, 2000\",\n",
       " \"Percent of adults with a bachelor's degree or higher, 2000\",\n",
       " 'Less than a high school diploma, 2008-12',\n",
       " 'High school diploma only, 2008-12',\n",
       " \"Some college or associate's degree, 2008-12\",\n",
       " \"Bachelor's degree or higher, 2008-12\",\n",
       " 'Percent of adults with less than a high school diploma, 2008-12',\n",
       " 'Percent of adults with a high school diploma only, 2008-12',\n",
       " \"Percent of adults completing some college or associate's degree, 2008-12\",\n",
       " \"Percent of adults with a bachelor's degree or higher, 2008-12\",\n",
       " 'Less than a high school diploma, 2017-21',\n",
       " 'High school diploma only, 2017-21',\n",
       " \"Some college or associate's degree, 2017-21\",\n",
       " \"Bachelor's degree or higher, 2017-21\",\n",
       " 'Percent of adults with less than a high school diploma, 2017-21',\n",
       " 'Percent of adults with a high school diploma only, 2017-21',\n",
       " \"Percent of adults completing some college or associate's degree, 2017-21\",\n",
       " \"Percent of adults with a bachelor's degree or higher, 2017-21\",\n",
       " 'Rural_urban_continuum_code_2013',\n",
       " 'Urban_influence_code_2013',\n",
       " 'Metro_2013',\n",
       " 'Civilian_labor_force_2000',\n",
       " 'Employed_2000',\n",
       " 'Unemployed_2000',\n",
       " 'Unemployment_rate_2000',\n",
       " 'Civilian_labor_force_2001',\n",
       " 'Employed_2001',\n",
       " 'Unemployed_2001',\n",
       " 'Unemployment_rate_2001',\n",
       " 'Civilian_labor_force_2002',\n",
       " 'Employed_2002',\n",
       " 'Unemployed_2002',\n",
       " 'Unemployment_rate_2002',\n",
       " 'Civilian_labor_force_2003',\n",
       " 'Employed_2003',\n",
       " 'Unemployed_2003',\n",
       " 'Unemployment_rate_2003',\n",
       " 'Civilian_labor_force_2004',\n",
       " 'Employed_2004',\n",
       " 'Unemployed_2004',\n",
       " 'Unemployment_rate_2004',\n",
       " 'Civilian_labor_force_2005',\n",
       " 'Employed_2005',\n",
       " 'Unemployed_2005',\n",
       " 'Unemployment_rate_2005',\n",
       " 'Civilian_labor_force_2006',\n",
       " 'Employed_2006',\n",
       " 'Unemployed_2006',\n",
       " 'Unemployment_rate_2006',\n",
       " 'Civilian_labor_force_2007',\n",
       " 'Employed_2007',\n",
       " 'Unemployed_2007',\n",
       " 'Unemployment_rate_2007',\n",
       " 'Civilian_labor_force_2008',\n",
       " 'Employed_2008',\n",
       " 'Unemployed_2008',\n",
       " 'Unemployment_rate_2008',\n",
       " 'Civilian_labor_force_2009',\n",
       " 'Employed_2009',\n",
       " 'Unemployed_2009',\n",
       " 'Unemployment_rate_2009',\n",
       " 'Civilian_labor_force_2010',\n",
       " 'Employed_2010',\n",
       " 'Unemployed_2010',\n",
       " 'Unemployment_rate_2010',\n",
       " 'Civilian_labor_force_2011',\n",
       " 'Employed_2011',\n",
       " 'Unemployed_2011',\n",
       " 'Unemployment_rate_2011',\n",
       " 'Civilian_labor_force_2012',\n",
       " 'Employed_2012',\n",
       " 'Unemployed_2012',\n",
       " 'Unemployment_rate_2012',\n",
       " 'Civilian_labor_force_2013',\n",
       " 'Employed_2013',\n",
       " 'Unemployed_2013',\n",
       " 'Unemployment_rate_2013',\n",
       " 'Civilian_labor_force_2014',\n",
       " 'Employed_2014',\n",
       " 'Unemployed_2014',\n",
       " 'Unemployment_rate_2014',\n",
       " 'Civilian_labor_force_2015',\n",
       " 'Employed_2015',\n",
       " 'Unemployed_2015',\n",
       " 'Unemployment_rate_2015',\n",
       " 'Civilian_labor_force_2016',\n",
       " 'Employed_2016',\n",
       " 'Unemployed_2016',\n",
       " 'Unemployment_rate_2016',\n",
       " 'Civilian_labor_force_2017',\n",
       " 'Employed_2017',\n",
       " 'Unemployed_2017',\n",
       " 'Unemployment_rate_2017',\n",
       " 'Civilian_labor_force_2018',\n",
       " 'Employed_2018',\n",
       " 'Unemployed_2018',\n",
       " 'Unemployment_rate_2018',\n",
       " 'Civilian_labor_force_2019',\n",
       " 'Employed_2019',\n",
       " 'Unemployed_2019',\n",
       " 'Unemployment_rate_2019',\n",
       " 'Civilian_labor_force_2020',\n",
       " 'Employed_2020',\n",
       " 'Unemployed_2020',\n",
       " 'Unemployment_rate_2020',\n",
       " 'Civilian_labor_force_2021',\n",
       " 'Employed_2021',\n",
       " 'Unemployed_2021',\n",
       " 'Unemployment_rate_2021',\n",
       " 'Median_Household_Income_2020',\n",
       " 'Med_HH_Income_Percent_of_State_Total_2020',\n",
       " 'NPOPCHG2022']"
      ]
     },
     "execution_count": 56,
     "metadata": {},
     "output_type": "execute_result"
    }
   ],
   "source": [
    "part1.drop(columns=['FIPS code', 'GeoName', 'State', 'Area name', 'Area_name'], inplace=True, axis=1)\n",
    "list(part1.columns)"
   ]
  },
  {
   "cell_type": "code",
   "execution_count": 59,
   "metadata": {},
   "outputs": [],
   "source": [
    "part1 = part1.ffill()\n",
    "part1 = part1.bfill()\n"
   ]
  },
  {
   "cell_type": "code",
   "execution_count": 60,
   "metadata": {},
   "outputs": [],
   "source": [
    "X = part1.iloc[:, :-1]\n",
    "y = part1.iloc[:, -1]"
   ]
  },
  {
   "cell_type": "code",
   "execution_count": 67,
   "metadata": {},
   "outputs": [
    {
     "data": {
      "text/html": [
       "<style>#sk-container-id-9 {color: black;background-color: white;}#sk-container-id-9 pre{padding: 0;}#sk-container-id-9 div.sk-toggleable {background-color: white;}#sk-container-id-9 label.sk-toggleable__label {cursor: pointer;display: block;width: 100%;margin-bottom: 0;padding: 0.3em;box-sizing: border-box;text-align: center;}#sk-container-id-9 label.sk-toggleable__label-arrow:before {content: \"▸\";float: left;margin-right: 0.25em;color: #696969;}#sk-container-id-9 label.sk-toggleable__label-arrow:hover:before {color: black;}#sk-container-id-9 div.sk-estimator:hover label.sk-toggleable__label-arrow:before {color: black;}#sk-container-id-9 div.sk-toggleable__content {max-height: 0;max-width: 0;overflow: hidden;text-align: left;background-color: #f0f8ff;}#sk-container-id-9 div.sk-toggleable__content pre {margin: 0.2em;color: black;border-radius: 0.25em;background-color: #f0f8ff;}#sk-container-id-9 input.sk-toggleable__control:checked~div.sk-toggleable__content {max-height: 200px;max-width: 100%;overflow: auto;}#sk-container-id-9 input.sk-toggleable__control:checked~label.sk-toggleable__label-arrow:before {content: \"▾\";}#sk-container-id-9 div.sk-estimator input.sk-toggleable__control:checked~label.sk-toggleable__label {background-color: #d4ebff;}#sk-container-id-9 div.sk-label input.sk-toggleable__control:checked~label.sk-toggleable__label {background-color: #d4ebff;}#sk-container-id-9 input.sk-hidden--visually {border: 0;clip: rect(1px 1px 1px 1px);clip: rect(1px, 1px, 1px, 1px);height: 1px;margin: -1px;overflow: hidden;padding: 0;position: absolute;width: 1px;}#sk-container-id-9 div.sk-estimator {font-family: monospace;background-color: #f0f8ff;border: 1px dotted black;border-radius: 0.25em;box-sizing: border-box;margin-bottom: 0.5em;}#sk-container-id-9 div.sk-estimator:hover {background-color: #d4ebff;}#sk-container-id-9 div.sk-parallel-item::after {content: \"\";width: 100%;border-bottom: 1px solid gray;flex-grow: 1;}#sk-container-id-9 div.sk-label:hover label.sk-toggleable__label {background-color: #d4ebff;}#sk-container-id-9 div.sk-serial::before {content: \"\";position: absolute;border-left: 1px solid gray;box-sizing: border-box;top: 0;bottom: 0;left: 50%;z-index: 0;}#sk-container-id-9 div.sk-serial {display: flex;flex-direction: column;align-items: center;background-color: white;padding-right: 0.2em;padding-left: 0.2em;position: relative;}#sk-container-id-9 div.sk-item {position: relative;z-index: 1;}#sk-container-id-9 div.sk-parallel {display: flex;align-items: stretch;justify-content: center;background-color: white;position: relative;}#sk-container-id-9 div.sk-item::before, #sk-container-id-9 div.sk-parallel-item::before {content: \"\";position: absolute;border-left: 1px solid gray;box-sizing: border-box;top: 0;bottom: 0;left: 50%;z-index: -1;}#sk-container-id-9 div.sk-parallel-item {display: flex;flex-direction: column;z-index: 1;position: relative;background-color: white;}#sk-container-id-9 div.sk-parallel-item:first-child::after {align-self: flex-end;width: 50%;}#sk-container-id-9 div.sk-parallel-item:last-child::after {align-self: flex-start;width: 50%;}#sk-container-id-9 div.sk-parallel-item:only-child::after {width: 0;}#sk-container-id-9 div.sk-dashed-wrapped {border: 1px dashed gray;margin: 0 0.4em 0.5em 0.4em;box-sizing: border-box;padding-bottom: 0.4em;background-color: white;}#sk-container-id-9 div.sk-label label {font-family: monospace;font-weight: bold;display: inline-block;line-height: 1.2em;}#sk-container-id-9 div.sk-label-container {text-align: center;}#sk-container-id-9 div.sk-container {/* jupyter's `normalize.less` sets `[hidden] { display: none; }` but bootstrap.min.css set `[hidden] { display: none !important; }` so we also need the `!important` here to be able to override the default hidden behavior on the sphinx rendered scikit-learn.org. See: https://github.com/scikit-learn/scikit-learn/issues/21755 */display: inline-block !important;position: relative;}#sk-container-id-9 div.sk-text-repr-fallback {display: none;}</style><div id=\"sk-container-id-9\" class=\"sk-top-container\"><div class=\"sk-text-repr-fallback\"><pre>RandomForestClassifier(max_depth=20, n_estimators=200)</pre><b>In a Jupyter environment, please rerun this cell to show the HTML representation or trust the notebook. <br />On GitHub, the HTML representation is unable to render, please try loading this page with nbviewer.org.</b></div><div class=\"sk-container\" hidden><div class=\"sk-item\"><div class=\"sk-estimator sk-toggleable\"><input class=\"sk-toggleable__control sk-hidden--visually\" id=\"sk-estimator-id-9\" type=\"checkbox\" checked><label for=\"sk-estimator-id-9\" class=\"sk-toggleable__label sk-toggleable__label-arrow\">RandomForestClassifier</label><div class=\"sk-toggleable__content\"><pre>RandomForestClassifier(max_depth=20, n_estimators=200)</pre></div></div></div></div></div>"
      ],
      "text/plain": [
       "RandomForestClassifier(max_depth=20, n_estimators=200)"
      ]
     },
     "execution_count": 67,
     "metadata": {},
     "output_type": "execute_result"
    }
   ],
   "source": [
    "dzewo = RandomForestClassifier(n_estimators=200, max_depth=20)\n",
    "X_train, X_test, Y_train, Y_test = train_test_split(X, y > 0, test_size=.3)\n",
    "\n",
    "dzewo.fit(X_train, Y_train)"
   ]
  },
  {
   "cell_type": "code",
   "execution_count": 68,
   "metadata": {},
   "outputs": [
    {
     "name": "stderr",
     "output_type": "stream",
     "text": [
      "c:\\Users\\Filif\\anaconda3\\envs\\torch_gpu\\lib\\site-packages\\sklearn\\base.py:450: UserWarning: X does not have valid feature names, but RandomForestClassifier was fitted with feature names\n",
      "  warnings.warn(\n"
     ]
    },
    {
     "data": {
      "text/plain": [
       "0.7331887201735358"
      ]
     },
     "execution_count": 68,
     "metadata": {},
     "output_type": "execute_result"
    }
   ],
   "source": [
    "accuracy_score(Y_test.values.reshape(-1, 1), dzewo.predict(X_test.values))"
   ]
  },
  {
   "cell_type": "code",
   "execution_count": null,
   "metadata": {},
   "outputs": [],
   "source": []
  }
 ],
 "metadata": {
  "kernelspec": {
   "display_name": "torch_gpu",
   "language": "python",
   "name": "python3"
  },
  "language_info": {
   "codemirror_mode": {
    "name": "ipython",
    "version": 3
   },
   "file_extension": ".py",
   "mimetype": "text/x-python",
   "name": "python",
   "nbconvert_exporter": "python",
   "pygments_lexer": "ipython3",
   "version": "3.9.12"
  },
  "orig_nbformat": 4
 },
 "nbformat": 4,
 "nbformat_minor": 2
}
